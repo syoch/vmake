{
 "cells": [
  {
   "cell_type": "code",
   "execution_count": 8,
   "metadata": {},
   "outputs": [],
   "source": [
    "import time"
   ]
  },
  {
   "cell_type": "code",
   "execution_count": 9,
   "metadata": {},
   "outputs": [],
   "source": [
    "def encode_varint(x):\n",
    "    ret = b''\n",
    "    while True:\n",
    "        ret += bytes([x & 0x7f])\n",
    "        if x < 0x80:\n",
    "            break\n",
    "        x >>= 7\n",
    "    return ret\n",
    "\n",
    "def decode_varint(x):\n",
    "    ret = 0\n",
    "    for i in range(len(x)):\n",
    "        ret += x[i] << (7 * i)\n",
    "        if x[i] < 0x80:\n",
    "            return ret"
   ]
  },
  {
   "cell_type": "code",
   "execution_count": 10,
   "metadata": {},
   "outputs": [],
   "source": [
    "def put_varint(x):\n",
    "    global buf\n",
    "    buf += encode_varint(x)"
   ]
  },
  {
   "cell_type": "code",
   "execution_count": 11,
   "metadata": {},
   "outputs": [],
   "source": [
    "def put_u8(x):\n",
    "    global buf\n",
    "    buf += x.to_bytes(1, \"big\")\n",
    "\n",
    "def put_u16(x):\n",
    "    global buf\n",
    "    buf += x.to_bytes(2, 'big')\n",
    "\n",
    "def put_u32(x):\n",
    "    global buf\n",
    "    buf += x.to_bytes(4, 'big')\n",
    "\n",
    "def put_u64(x):\n",
    "    global buf\n",
    "    buf += x.to_bytes(8, 'big')"
   ]
  },
  {
   "cell_type": "code",
   "execution_count": 12,
   "metadata": {},
   "outputs": [],
   "source": [
    "def put_bytes(x):\n",
    "    global buf\n",
    "    put_varint(len(x))\n",
    "    buf += x\n",
    "\n",
    "def put_string(x):\n",
    "    global buf\n",
    "    buf += x.encode(\"utf-8\")\n",
    "    buf += b'\\0'"
   ]
  },
  {
   "cell_type": "code",
   "execution_count": 13,
   "metadata": {},
   "outputs": [],
   "source": [
    "def put_time():\n",
    "    global buf\n",
    "    put_u64(int(time.time()))"
   ]
  },
  {
   "cell_type": "code",
   "execution_count": 14,
   "metadata": {},
   "outputs": [],
   "source": [
    "def file(name, data):\n",
    "    global buf\n",
    "    put_u8(0x00)\n",
    "    put_string(name)\n",
    "    put_time()\n",
    "    put_bytes(data)"
   ]
  },
  {
   "cell_type": "code",
   "execution_count": 15,
   "metadata": {},
   "outputs": [],
   "source": [
    "class Folder:\n",
    "    def __init__(self, name):\n",
    "        self.name = name\n",
    "\n",
    "    def __enter__(self):\n",
    "        global buf\n",
    "        put_u8(0x01)\n",
    "        put_string(self.name)\n",
    "        put_time()\n",
    "\n",
    "    \n",
    "    def __exit__(self, type, value, traceback):\n",
    "        global buf\n",
    "        put_u8(0xFF)"
   ]
  },
  {
   "cell_type": "code",
   "execution_count": 20,
   "metadata": {},
   "outputs": [],
   "source": [
    "buf = b''\n",
    "\n",
    "put_u32(0x766d6b70)\n",
    "put_u16(0x0101)\n",
    "put_u16(0x0000)\n",
    "\n",
    "with Folder(\"/\"):\n",
    "    file(\"test.txt\", b\"test\")\n",
    "    file(\"meta.json\", b'{\"name\": \"test\"}')\n",
    "    \n",
    "    with Folder(\"scenes\"):\n",
    "        file(\"meta.json\", b'{\"cnt\": 200}')\n"
   ]
  },
  {
   "cell_type": "code",
   "execution_count": 21,
   "metadata": {},
   "outputs": [
    {
     "data": {
      "text/plain": [
       "b'vmkp\\x01\\x01\\x00\\x00\\x01/\\x00\\x00\\x00\\x00\\x00b%\\xfa}\\x00test.txt\\x00\\x00\\x00\\x00\\x00b%\\xfa}\\x04test\\x00meta.json\\x00\\x00\\x00\\x00\\x00b%\\xfa}\\x10{\"name\": \"test\"}\\x01scenes\\x00\\x00\\x00\\x00\\x00b%\\xfa}\\x00meta.json\\x00\\x00\\x00\\x00\\x00b%\\xfa}\\x0c{\"cnt\": 200}\\xff\\xff'"
      ]
     },
     "execution_count": 21,
     "metadata": {},
     "output_type": "execute_result"
    }
   ],
   "source": [
    "buf"
   ]
  },
  {
   "cell_type": "code",
   "execution_count": 22,
   "metadata": {},
   "outputs": [],
   "source": [
    "with open(\"test.vmkp\", \"wb\") as fp:\n",
    "    fp.write(buf)"
   ]
  }
 ],
 "metadata": {
  "interpreter": {
   "hash": "767d51c1340bd893661ea55ea3124f6de3c7a262a8b4abca0554b478b1e2ff90"
  },
  "kernelspec": {
   "display_name": "Python 3.10.2 64-bit",
   "language": "python",
   "name": "python3"
  },
  "language_info": {
   "codemirror_mode": {
    "name": "ipython",
    "version": 3
   },
   "file_extension": ".py",
   "mimetype": "text/x-python",
   "name": "python",
   "nbconvert_exporter": "python",
   "pygments_lexer": "ipython3",
   "version": "3.10.2"
  },
  "orig_nbformat": 4
 },
 "nbformat": 4,
 "nbformat_minor": 2
}
