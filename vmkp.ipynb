{
 "cells": [
  {
   "cell_type": "code",
   "execution_count": 9,
   "metadata": {},
   "outputs": [],
   "source": [
    "import time"
   ]
  },
  {
   "cell_type": "code",
   "execution_count": 10,
   "metadata": {},
   "outputs": [],
   "source": [
    "def encode_varint(x):\n",
    "    ret = b''\n",
    "    while True:\n",
    "        ret += bytes([x & 0x7f])\n",
    "        if x < 0x80:\n",
    "            break\n",
    "        x >>= 7\n",
    "    return ret\n",
    "\n",
    "def decode_varint(x):\n",
    "    ret = 0\n",
    "    for i in range(len(x)):\n",
    "        ret += x[i] << (7 * i)\n",
    "        if x[i] < 0x80:\n",
    "            return ret"
   ]
  },
  {
   "cell_type": "code",
   "execution_count": 11,
   "metadata": {},
   "outputs": [],
   "source": [
    "def put_varint(x):\n",
    "    global buf\n",
    "    buf += encode_varint(x)\n",
    "\n",
    "def put_u8(x):\n",
    "    global buf\n",
    "    buf += x.to_bytes(1, \"big\")\n",
    "\n",
    "def put_u64(x):\n",
    "    global buf\n",
    "    buf += x.to_bytes(8, 'little')"
   ]
  },
  {
   "cell_type": "code",
   "execution_count": 12,
   "metadata": {},
   "outputs": [],
   "source": [
    "def put_string(x):\n",
    "    global buf\n",
    "    put_varint(len(x))\n",
    "    buf += x.encode('utf-8')\n",
    "\n",
    "def put_bytes(x):\n",
    "    global buf\n",
    "    put_varint(len(x))\n",
    "    buf += x"
   ]
  },
  {
   "cell_type": "code",
   "execution_count": 13,
   "metadata": {},
   "outputs": [],
   "source": [
    "def put_time():\n",
    "    global buf\n",
    "    put_u64(int(time.time()))"
   ]
  },
  {
   "cell_type": "code",
   "execution_count": 14,
   "metadata": {},
   "outputs": [],
   "source": [
    "def put_file(name, data):\n",
    "    global buf\n",
    "    put_u8(0x00)\n",
    "    put_string(name)\n",
    "    put_time()\n",
    "    put_bytes(data)"
   ]
  },
  {
   "cell_type": "code",
   "execution_count": 18,
   "metadata": {},
   "outputs": [],
   "source": [
    "buf = b'vmkp'\n",
    "\n",
    "put_u8(1)\n",
    "put_string(\"/\")\n",
    "put_u64(0)\n",
    "put_varint(1)\n",
    "\n",
    "put_u8(0)\n",
    "put_string(\"meta.json\")\n",
    "put_u64(0)\n",
    "put_string(\"{\\\"name\\\":\\\"test\\\"}\")"
   ]
  },
  {
   "cell_type": "code",
   "execution_count": 19,
   "metadata": {},
   "outputs": [],
   "source": [
    "with open(\"test.vmkp\", \"wb\") as fp:\n",
    "    fp.write(buf)"
   ]
  },
  {
   "cell_type": "code",
   "execution_count": 22,
   "metadata": {},
   "outputs": [
    {
     "data": {
      "text/plain": [
       "[118,\n",
       " 109,\n",
       " 107,\n",
       " 112,\n",
       " 1,\n",
       " 1,\n",
       " 47,\n",
       " 0,\n",
       " 0,\n",
       " 0,\n",
       " 0,\n",
       " 0,\n",
       " 0,\n",
       " 0,\n",
       " 0,\n",
       " 1,\n",
       " 0,\n",
       " 9,\n",
       " 109,\n",
       " 101,\n",
       " 116,\n",
       " 97,\n",
       " 46,\n",
       " 106,\n",
       " 115,\n",
       " 111,\n",
       " 110,\n",
       " 0,\n",
       " 0,\n",
       " 0,\n",
       " 0,\n",
       " 0,\n",
       " 0,\n",
       " 0,\n",
       " 0,\n",
       " 15,\n",
       " 123,\n",
       " 34,\n",
       " 110,\n",
       " 97,\n",
       " 109,\n",
       " 101,\n",
       " 34,\n",
       " 58,\n",
       " 34,\n",
       " 116,\n",
       " 101,\n",
       " 115,\n",
       " 116,\n",
       " 34,\n",
       " 125]"
      ]
     },
     "execution_count": 22,
     "metadata": {},
     "output_type": "execute_result"
    }
   ],
   "source": [
    "[x for x in buf]"
   ]
  }
 ],
 "metadata": {
  "interpreter": {
   "hash": "767d51c1340bd893661ea55ea3124f6de3c7a262a8b4abca0554b478b1e2ff90"
  },
  "kernelspec": {
   "display_name": "Python 3.10.2 64-bit",
   "language": "python",
   "name": "python3"
  },
  "language_info": {
   "codemirror_mode": {
    "name": "ipython",
    "version": 3
   },
   "file_extension": ".py",
   "mimetype": "text/x-python",
   "name": "python",
   "nbconvert_exporter": "python",
   "pygments_lexer": "ipython3",
   "version": "3.10.2"
  },
  "orig_nbformat": 4
 },
 "nbformat": 4,
 "nbformat_minor": 2
}
